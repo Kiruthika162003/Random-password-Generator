{
  "nbformat": 4,
  "nbformat_minor": 0,
  "metadata": {
    "colab": {
      "name": "RANDOM PASSWORD GENERATOR",
      "provenance": []
    },
    "kernelspec": {
      "name": "python3",
      "display_name": "Python 3"
    },
    "language_info": {
      "name": "python"
    }
  },
  "cells": [
    {
      "cell_type": "code",
      "execution_count": 1,
      "metadata": {
        "id": "gKt7QMAD6LMq"
      },
      "outputs": [],
      "source": [
        "import random\n",
        "import string"
      ]
    },
    {
      "cell_type": "code",
      "source": [
        "print('hello, Welcome to Password generator!')"
      ],
      "metadata": {
        "colab": {
          "base_uri": "https://localhost:8080/",
          "height": 0
        },
        "id": "7Qty9vsI6Z5W",
        "outputId": "e870f81f-1503-4204-d378-649a357e61f8"
      },
      "execution_count": 2,
      "outputs": [
        {
          "output_type": "stream",
          "name": "stdout",
          "text": [
            "hello, Welcome to Password generator!\n"
          ]
        }
      ]
    },
    {
      "cell_type": "code",
      "source": [
        "length = int(input('Enter the length of password: '))"
      ],
      "metadata": {
        "colab": {
          "base_uri": "https://localhost:8080/",
          "height": 0
        },
        "id": "lNpt-ksP6dMz",
        "outputId": "2f3afc7c-3eaf-480b-d928-0c7947baba49"
      },
      "execution_count": 3,
      "outputs": [
        {
          "name": "stdout",
          "output_type": "stream",
          "text": [
            "\n",
            "Enter the length of password: 8\n"
          ]
        }
      ]
    },
    {
      "cell_type": "code",
      "source": [
        "lower = string.ascii_lowercase\n",
        "upper = string.ascii_uppercase\n",
        "num = string.digits\n",
        "symbols = string.punctuation"
      ],
      "metadata": {
        "id": "Cxv550on6jN7"
      },
      "execution_count": 4,
      "outputs": []
    },
    {
      "cell_type": "code",
      "source": [
        "all = lower + upper + num + symbols"
      ],
      "metadata": {
        "id": "YH30cW_96k46"
      },
      "execution_count": 5,
      "outputs": []
    },
    {
      "cell_type": "code",
      "source": [
        "temp = random.sample(all,length)\n",
        "password = \"\".join(temp)"
      ],
      "metadata": {
        "id": "foG8a7xw6qsb"
      },
      "execution_count": 6,
      "outputs": []
    },
    {
      "cell_type": "code",
      "source": [
        "all = string.ascii_letters + string.digits + string.punctuation\n",
        "password = \"\".join(random.sample(all,length))"
      ],
      "metadata": {
        "id": "uNLk1Hxs6tii"
      },
      "execution_count": 12,
      "outputs": []
    },
    {
      "cell_type": "code",
      "source": [
        "print(password)"
      ],
      "metadata": {
        "colab": {
          "base_uri": "https://localhost:8080/",
          "height": 0
        },
        "id": "cQRz-V-37Mub",
        "outputId": "d9a9ce84-9804-4001-be28-8de3113cbe8b"
      },
      "execution_count": 13,
      "outputs": [
        {
          "output_type": "stream",
          "name": "stdout",
          "text": [
            "@,\\tS_Oj\n"
          ]
        }
      ]
    }
  ]
}